{
  "nbformat": 4,
  "nbformat_minor": 0,
  "metadata": {
    "kernelspec": {
      "display_name": "Python 3",
      "language": "python",
      "name": "python3"
    },
    "language_info": {
      "codemirror_mode": {
        "name": "ipython",
        "version": 3
      },
      "file_extension": ".py",
      "mimetype": "text/x-python",
      "name": "python",
      "nbconvert_exporter": "python",
      "pygments_lexer": "ipython3",
      "version": "3.8.3"
    },
    "colab": {
      "name": "찜유저 구매확률예측 모델선정.ipynb",
      "provenance": []
    }
  },
  "cells": [
    {
      "cell_type": "code",
      "metadata": {
        "scrolled": true,
        "id": "2eyieP8fyx8I"
      },
      "source": [
        "#1\n",
        "import pandas as pd\n",
        "import csv\n",
        "import numpy as np\n",
        "import matplotlib.pyplot as plt\n",
        "import seaborn as sns\n",
        "\n",
        "jab = pd.read_csv('data_set.csv')\n",
        "jab.columns = ['구id', '구성별','구나이','3개월간구매횟수','평균금액','찜시각','카테고리','상품가격','찜수','택포','교환','판성별','판나이','구매여부']\n",
        "\n",
        "\n",
        "buser=pd.read_csv('output_8.csv',header=None)\n",
        "f=pd.DataFrame(buser)\n",
        "f=f.transpose()\n",
        "f.columns =['buserid'] \n"
      ],
      "execution_count": null,
      "outputs": []
    },
    {
      "cell_type": "code",
      "metadata": {
        "id": "aTJhLrgdyx8L",
        "outputId": "acdad01d-4220-4591-edeb-d0518ecb7122"
      },
      "source": [
        "#2  기간내 구매(번프, 번페)를 2번 이상 한 사람 uid만 남겨서 그 사람들 데이터로만 학습. #######\n",
        "#->구매여부=1 증가시키기 위해\n",
        "#나머지는 동일하게 하고 1번이상한사람 대상으로 해서 비교해볼것\n",
        "#현재는 output_4,smote,Robust scaler, random forest의 조합이 가장 좋음#######################################\n",
        "f"
      ],
      "execution_count": null,
      "outputs": [
        {
          "output_type": "execute_result",
          "data": {
            "text/html": [
              "<div>\n",
              "<style scoped>\n",
              "    .dataframe tbody tr th:only-of-type {\n",
              "        vertical-align: middle;\n",
              "    }\n",
              "\n",
              "    .dataframe tbody tr th {\n",
              "        vertical-align: top;\n",
              "    }\n",
              "\n",
              "    .dataframe thead th {\n",
              "        text-align: right;\n",
              "    }\n",
              "</style>\n",
              "<table border=\"1\" class=\"dataframe\">\n",
              "  <thead>\n",
              "    <tr style=\"text-align: right;\">\n",
              "      <th></th>\n",
              "      <th>buserid</th>\n",
              "    </tr>\n",
              "  </thead>\n",
              "  <tbody>\n",
              "    <tr>\n",
              "      <th>0</th>\n",
              "      <td>719</td>\n",
              "    </tr>\n",
              "    <tr>\n",
              "      <th>1</th>\n",
              "      <td>1200</td>\n",
              "    </tr>\n",
              "    <tr>\n",
              "      <th>2</th>\n",
              "      <td>1985</td>\n",
              "    </tr>\n",
              "    <tr>\n",
              "      <th>3</th>\n",
              "      <td>6192</td>\n",
              "    </tr>\n",
              "    <tr>\n",
              "      <th>4</th>\n",
              "      <td>6881</td>\n",
              "    </tr>\n",
              "    <tr>\n",
              "      <th>...</th>\n",
              "      <td>...</td>\n",
              "    </tr>\n",
              "    <tr>\n",
              "      <th>4726</th>\n",
              "      <td>74508159</td>\n",
              "    </tr>\n",
              "    <tr>\n",
              "      <th>4727</th>\n",
              "      <td>74508238</td>\n",
              "    </tr>\n",
              "    <tr>\n",
              "      <th>4728</th>\n",
              "      <td>74512454</td>\n",
              "    </tr>\n",
              "    <tr>\n",
              "      <th>4729</th>\n",
              "      <td>74515817</td>\n",
              "    </tr>\n",
              "    <tr>\n",
              "      <th>4730</th>\n",
              "      <td>74517939</td>\n",
              "    </tr>\n",
              "  </tbody>\n",
              "</table>\n",
              "<p>4731 rows × 1 columns</p>\n",
              "</div>"
            ],
            "text/plain": [
              "       buserid\n",
              "0          719\n",
              "1         1200\n",
              "2         1985\n",
              "3         6192\n",
              "4         6881\n",
              "...        ...\n",
              "4726  74508159\n",
              "4727  74508238\n",
              "4728  74512454\n",
              "4729  74515817\n",
              "4730  74517939\n",
              "\n",
              "[4731 rows x 1 columns]"
            ]
          },
          "metadata": {
            "tags": []
          },
          "execution_count": 34
        }
      ]
    },
    {
      "cell_type": "code",
      "metadata": {
        "scrolled": true,
        "id": "C7NrLRLkyx8N",
        "outputId": "944888a4-b0d0-4f00-87f1-721c510c0499"
      },
      "source": [
        "jab['나이차이'] = abs(jab['구나이'] - jab['판나이'])\n",
        "jab.shape"
      ],
      "execution_count": null,
      "outputs": [
        {
          "output_type": "execute_result",
          "data": {
            "text/plain": [
              "(799303, 15)"
            ]
          },
          "metadata": {
            "tags": []
          },
          "execution_count": 35
        }
      ]
    },
    {
      "cell_type": "code",
      "metadata": {
        "scrolled": true,
        "id": "luMOLnvcyx8N",
        "outputId": "3ded3f77-2037-477e-93ab-9f940bb47929"
      },
      "source": [
        "jab=jab[jab['구id'].isin (f['buserid'])]\n",
        "jab.head(60)"
      ],
      "execution_count": null,
      "outputs": [
        {
          "output_type": "execute_result",
          "data": {
            "text/html": [
              "<div>\n",
              "<style scoped>\n",
              "    .dataframe tbody tr th:only-of-type {\n",
              "        vertical-align: middle;\n",
              "    }\n",
              "\n",
              "    .dataframe tbody tr th {\n",
              "        vertical-align: top;\n",
              "    }\n",
              "\n",
              "    .dataframe thead th {\n",
              "        text-align: right;\n",
              "    }\n",
              "</style>\n",
              "<table border=\"1\" class=\"dataframe\">\n",
              "  <thead>\n",
              "    <tr style=\"text-align: right;\">\n",
              "      <th></th>\n",
              "      <th>구id</th>\n",
              "      <th>구성별</th>\n",
              "      <th>구나이</th>\n",
              "      <th>3개월간구매횟수</th>\n",
              "      <th>평균금액</th>\n",
              "      <th>찜시각</th>\n",
              "      <th>카테고리</th>\n",
              "      <th>상품가격</th>\n",
              "      <th>찜수</th>\n",
              "      <th>택포</th>\n",
              "      <th>교환</th>\n",
              "      <th>판성별</th>\n",
              "      <th>판나이</th>\n",
              "      <th>구매여부</th>\n",
              "      <th>나이차이</th>\n",
              "    </tr>\n",
              "  </thead>\n",
              "  <tbody>\n",
              "    <tr>\n",
              "      <th>13</th>\n",
              "      <td>719</td>\n",
              "      <td>2</td>\n",
              "      <td>20</td>\n",
              "      <td>18</td>\n",
              "      <td>35012</td>\n",
              "      <td>20201127</td>\n",
              "      <td>700100</td>\n",
              "      <td>15000</td>\n",
              "      <td>1</td>\n",
              "      <td>0</td>\n",
              "      <td>0</td>\n",
              "      <td>2</td>\n",
              "      <td>20</td>\n",
              "      <td>0</td>\n",
              "      <td>0</td>\n",
              "    </tr>\n",
              "    <tr>\n",
              "      <th>14</th>\n",
              "      <td>719</td>\n",
              "      <td>2</td>\n",
              "      <td>20</td>\n",
              "      <td>18</td>\n",
              "      <td>35012</td>\n",
              "      <td>20201204</td>\n",
              "      <td>400020</td>\n",
              "      <td>25000</td>\n",
              "      <td>5</td>\n",
              "      <td>0</td>\n",
              "      <td>0</td>\n",
              "      <td>2</td>\n",
              "      <td>25</td>\n",
              "      <td>0</td>\n",
              "      <td>5</td>\n",
              "    </tr>\n",
              "    <tr>\n",
              "      <th>15</th>\n",
              "      <td>719</td>\n",
              "      <td>2</td>\n",
              "      <td>20</td>\n",
              "      <td>18</td>\n",
              "      <td>35012</td>\n",
              "      <td>20201204</td>\n",
              "      <td>700100</td>\n",
              "      <td>55000</td>\n",
              "      <td>3</td>\n",
              "      <td>0</td>\n",
              "      <td>0</td>\n",
              "      <td>2</td>\n",
              "      <td>10</td>\n",
              "      <td>0</td>\n",
              "      <td>10</td>\n",
              "    </tr>\n",
              "    <tr>\n",
              "      <th>16</th>\n",
              "      <td>719</td>\n",
              "      <td>2</td>\n",
              "      <td>20</td>\n",
              "      <td>18</td>\n",
              "      <td>35012</td>\n",
              "      <td>20201204</td>\n",
              "      <td>700100</td>\n",
              "      <td>45000</td>\n",
              "      <td>13</td>\n",
              "      <td>1</td>\n",
              "      <td>0</td>\n",
              "      <td>2</td>\n",
              "      <td>10</td>\n",
              "      <td>0</td>\n",
              "      <td>10</td>\n",
              "    </tr>\n",
              "    <tr>\n",
              "      <th>17</th>\n",
              "      <td>719</td>\n",
              "      <td>2</td>\n",
              "      <td>20</td>\n",
              "      <td>18</td>\n",
              "      <td>35012</td>\n",
              "      <td>20201128</td>\n",
              "      <td>320080</td>\n",
              "      <td>33000</td>\n",
              "      <td>1</td>\n",
              "      <td>0</td>\n",
              "      <td>0</td>\n",
              "      <td>1</td>\n",
              "      <td>20</td>\n",
              "      <td>1</td>\n",
              "      <td>0</td>\n",
              "    </tr>\n",
              "    <tr>\n",
              "      <th>18</th>\n",
              "      <td>719</td>\n",
              "      <td>2</td>\n",
              "      <td>20</td>\n",
              "      <td>18</td>\n",
              "      <td>35012</td>\n",
              "      <td>20201204</td>\n",
              "      <td>700100</td>\n",
              "      <td>90000</td>\n",
              "      <td>1</td>\n",
              "      <td>0</td>\n",
              "      <td>0</td>\n",
              "      <td>2</td>\n",
              "      <td>10</td>\n",
              "      <td>0</td>\n",
              "      <td>10</td>\n",
              "    </tr>\n",
              "    <tr>\n",
              "      <th>19</th>\n",
              "      <td>719</td>\n",
              "      <td>2</td>\n",
              "      <td>20</td>\n",
              "      <td>18</td>\n",
              "      <td>35012</td>\n",
              "      <td>20201204</td>\n",
              "      <td>700100</td>\n",
              "      <td>100000</td>\n",
              "      <td>2</td>\n",
              "      <td>0</td>\n",
              "      <td>0</td>\n",
              "      <td>2</td>\n",
              "      <td>35</td>\n",
              "      <td>0</td>\n",
              "      <td>15</td>\n",
              "    </tr>\n",
              "    <tr>\n",
              "      <th>20</th>\n",
              "      <td>719</td>\n",
              "      <td>2</td>\n",
              "      <td>20</td>\n",
              "      <td>18</td>\n",
              "      <td>35012</td>\n",
              "      <td>20201204</td>\n",
              "      <td>600700</td>\n",
              "      <td>350000</td>\n",
              "      <td>3</td>\n",
              "      <td>0</td>\n",
              "      <td>0</td>\n",
              "      <td>2</td>\n",
              "      <td>20</td>\n",
              "      <td>0</td>\n",
              "      <td>0</td>\n",
              "    </tr>\n",
              "    <tr>\n",
              "      <th>21</th>\n",
              "      <td>719</td>\n",
              "      <td>2</td>\n",
              "      <td>20</td>\n",
              "      <td>18</td>\n",
              "      <td>35012</td>\n",
              "      <td>20201204</td>\n",
              "      <td>600700</td>\n",
              "      <td>550000</td>\n",
              "      <td>10</td>\n",
              "      <td>0</td>\n",
              "      <td>0</td>\n",
              "      <td>2</td>\n",
              "      <td>20</td>\n",
              "      <td>0</td>\n",
              "      <td>0</td>\n",
              "    </tr>\n",
              "    <tr>\n",
              "      <th>22</th>\n",
              "      <td>719</td>\n",
              "      <td>2</td>\n",
              "      <td>20</td>\n",
              "      <td>18</td>\n",
              "      <td>35012</td>\n",
              "      <td>20201128</td>\n",
              "      <td>320150</td>\n",
              "      <td>25000</td>\n",
              "      <td>13</td>\n",
              "      <td>1</td>\n",
              "      <td>0</td>\n",
              "      <td>2</td>\n",
              "      <td>10</td>\n",
              "      <td>0</td>\n",
              "      <td>10</td>\n",
              "    </tr>\n",
              "    <tr>\n",
              "      <th>23</th>\n",
              "      <td>719</td>\n",
              "      <td>2</td>\n",
              "      <td>20</td>\n",
              "      <td>18</td>\n",
              "      <td>35012</td>\n",
              "      <td>20201128</td>\n",
              "      <td>320080</td>\n",
              "      <td>27900</td>\n",
              "      <td>0</td>\n",
              "      <td>1</td>\n",
              "      <td>0</td>\n",
              "      <td>2</td>\n",
              "      <td>10</td>\n",
              "      <td>0</td>\n",
              "      <td>10</td>\n",
              "    </tr>\n",
              "    <tr>\n",
              "      <th>24</th>\n",
              "      <td>719</td>\n",
              "      <td>2</td>\n",
              "      <td>20</td>\n",
              "      <td>18</td>\n",
              "      <td>35012</td>\n",
              "      <td>20201204</td>\n",
              "      <td>700100</td>\n",
              "      <td>50000</td>\n",
              "      <td>7</td>\n",
              "      <td>1</td>\n",
              "      <td>0</td>\n",
              "      <td>2</td>\n",
              "      <td>10</td>\n",
              "      <td>0</td>\n",
              "      <td>10</td>\n",
              "    </tr>\n",
              "    <tr>\n",
              "      <th>25</th>\n",
              "      <td>719</td>\n",
              "      <td>2</td>\n",
              "      <td>20</td>\n",
              "      <td>18</td>\n",
              "      <td>35012</td>\n",
              "      <td>20201202</td>\n",
              "      <td>320150</td>\n",
              "      <td>10000</td>\n",
              "      <td>14</td>\n",
              "      <td>0</td>\n",
              "      <td>0</td>\n",
              "      <td>1</td>\n",
              "      <td>25</td>\n",
              "      <td>0</td>\n",
              "      <td>5</td>\n",
              "    </tr>\n",
              "    <tr>\n",
              "      <th>26</th>\n",
              "      <td>719</td>\n",
              "      <td>2</td>\n",
              "      <td>20</td>\n",
              "      <td>18</td>\n",
              "      <td>35012</td>\n",
              "      <td>20201203</td>\n",
              "      <td>700100</td>\n",
              "      <td>35000</td>\n",
              "      <td>2</td>\n",
              "      <td>1</td>\n",
              "      <td>0</td>\n",
              "      <td>2</td>\n",
              "      <td>25</td>\n",
              "      <td>1</td>\n",
              "      <td>5</td>\n",
              "    </tr>\n",
              "    <tr>\n",
              "      <th>27</th>\n",
              "      <td>719</td>\n",
              "      <td>2</td>\n",
              "      <td>20</td>\n",
              "      <td>18</td>\n",
              "      <td>35012</td>\n",
              "      <td>20201204</td>\n",
              "      <td>700100</td>\n",
              "      <td>30000</td>\n",
              "      <td>4</td>\n",
              "      <td>0</td>\n",
              "      <td>0</td>\n",
              "      <td>2</td>\n",
              "      <td>20</td>\n",
              "      <td>0</td>\n",
              "      <td>0</td>\n",
              "    </tr>\n",
              "    <tr>\n",
              "      <th>28</th>\n",
              "      <td>719</td>\n",
              "      <td>2</td>\n",
              "      <td>20</td>\n",
              "      <td>18</td>\n",
              "      <td>35012</td>\n",
              "      <td>20201205</td>\n",
              "      <td>400020</td>\n",
              "      <td>50000</td>\n",
              "      <td>2</td>\n",
              "      <td>2</td>\n",
              "      <td>2</td>\n",
              "      <td>2</td>\n",
              "      <td>10</td>\n",
              "      <td>0</td>\n",
              "      <td>10</td>\n",
              "    </tr>\n",
              "    <tr>\n",
              "      <th>29</th>\n",
              "      <td>719</td>\n",
              "      <td>2</td>\n",
              "      <td>20</td>\n",
              "      <td>18</td>\n",
              "      <td>35012</td>\n",
              "      <td>20201205</td>\n",
              "      <td>400020</td>\n",
              "      <td>30000</td>\n",
              "      <td>2</td>\n",
              "      <td>0</td>\n",
              "      <td>0</td>\n",
              "      <td>2</td>\n",
              "      <td>20</td>\n",
              "      <td>0</td>\n",
              "      <td>0</td>\n",
              "    </tr>\n",
              "    <tr>\n",
              "      <th>49</th>\n",
              "      <td>1200</td>\n",
              "      <td>2</td>\n",
              "      <td>30</td>\n",
              "      <td>20</td>\n",
              "      <td>54150</td>\n",
              "      <td>20201202</td>\n",
              "      <td>320080</td>\n",
              "      <td>40000</td>\n",
              "      <td>7</td>\n",
              "      <td>1</td>\n",
              "      <td>0</td>\n",
              "      <td>1</td>\n",
              "      <td>20</td>\n",
              "      <td>0</td>\n",
              "      <td>10</td>\n",
              "    </tr>\n",
              "    <tr>\n",
              "      <th>50</th>\n",
              "      <td>1200</td>\n",
              "      <td>2</td>\n",
              "      <td>30</td>\n",
              "      <td>20</td>\n",
              "      <td>54150</td>\n",
              "      <td>20201129</td>\n",
              "      <td>320080</td>\n",
              "      <td>1300000</td>\n",
              "      <td>2</td>\n",
              "      <td>0</td>\n",
              "      <td>0</td>\n",
              "      <td>2</td>\n",
              "      <td>25</td>\n",
              "      <td>0</td>\n",
              "      <td>5</td>\n",
              "    </tr>\n",
              "    <tr>\n",
              "      <th>51</th>\n",
              "      <td>1200</td>\n",
              "      <td>2</td>\n",
              "      <td>30</td>\n",
              "      <td>20</td>\n",
              "      <td>54150</td>\n",
              "      <td>20201202</td>\n",
              "      <td>320080</td>\n",
              "      <td>70000</td>\n",
              "      <td>5</td>\n",
              "      <td>0</td>\n",
              "      <td>0</td>\n",
              "      <td>2</td>\n",
              "      <td>25</td>\n",
              "      <td>0</td>\n",
              "      <td>5</td>\n",
              "    </tr>\n",
              "    <tr>\n",
              "      <th>52</th>\n",
              "      <td>1200</td>\n",
              "      <td>2</td>\n",
              "      <td>30</td>\n",
              "      <td>20</td>\n",
              "      <td>54150</td>\n",
              "      <td>20201201</td>\n",
              "      <td>400040</td>\n",
              "      <td>25000</td>\n",
              "      <td>19</td>\n",
              "      <td>0</td>\n",
              "      <td>0</td>\n",
              "      <td>2</td>\n",
              "      <td>30</td>\n",
              "      <td>0</td>\n",
              "      <td>0</td>\n",
              "    </tr>\n",
              "    <tr>\n",
              "      <th>53</th>\n",
              "      <td>1200</td>\n",
              "      <td>2</td>\n",
              "      <td>30</td>\n",
              "      <td>20</td>\n",
              "      <td>54150</td>\n",
              "      <td>20201202</td>\n",
              "      <td>320080</td>\n",
              "      <td>33000</td>\n",
              "      <td>4</td>\n",
              "      <td>1</td>\n",
              "      <td>0</td>\n",
              "      <td>1</td>\n",
              "      <td>20</td>\n",
              "      <td>1</td>\n",
              "      <td>10</td>\n",
              "    </tr>\n",
              "    <tr>\n",
              "      <th>54</th>\n",
              "      <td>1200</td>\n",
              "      <td>2</td>\n",
              "      <td>30</td>\n",
              "      <td>20</td>\n",
              "      <td>54150</td>\n",
              "      <td>20201201</td>\n",
              "      <td>400010</td>\n",
              "      <td>65000</td>\n",
              "      <td>12</td>\n",
              "      <td>0</td>\n",
              "      <td>0</td>\n",
              "      <td>2</td>\n",
              "      <td>30</td>\n",
              "      <td>0</td>\n",
              "      <td>0</td>\n",
              "    </tr>\n",
              "    <tr>\n",
              "      <th>55</th>\n",
              "      <td>1200</td>\n",
              "      <td>2</td>\n",
              "      <td>30</td>\n",
              "      <td>20</td>\n",
              "      <td>54150</td>\n",
              "      <td>20201202</td>\n",
              "      <td>600700</td>\n",
              "      <td>6000</td>\n",
              "      <td>8</td>\n",
              "      <td>0</td>\n",
              "      <td>0</td>\n",
              "      <td>1</td>\n",
              "      <td>25</td>\n",
              "      <td>0</td>\n",
              "      <td>5</td>\n",
              "    </tr>\n",
              "    <tr>\n",
              "      <th>56</th>\n",
              "      <td>1200</td>\n",
              "      <td>2</td>\n",
              "      <td>30</td>\n",
              "      <td>20</td>\n",
              "      <td>54150</td>\n",
              "      <td>20201204</td>\n",
              "      <td>320080</td>\n",
              "      <td>70000</td>\n",
              "      <td>1</td>\n",
              "      <td>0</td>\n",
              "      <td>0</td>\n",
              "      <td>1</td>\n",
              "      <td>25</td>\n",
              "      <td>0</td>\n",
              "      <td>5</td>\n",
              "    </tr>\n",
              "    <tr>\n",
              "      <th>57</th>\n",
              "      <td>1200</td>\n",
              "      <td>2</td>\n",
              "      <td>30</td>\n",
              "      <td>20</td>\n",
              "      <td>54150</td>\n",
              "      <td>20201128</td>\n",
              "      <td>400060</td>\n",
              "      <td>18000</td>\n",
              "      <td>4</td>\n",
              "      <td>1</td>\n",
              "      <td>0</td>\n",
              "      <td>2</td>\n",
              "      <td>25</td>\n",
              "      <td>0</td>\n",
              "      <td>5</td>\n",
              "    </tr>\n",
              "    <tr>\n",
              "      <th>58</th>\n",
              "      <td>1200</td>\n",
              "      <td>2</td>\n",
              "      <td>30</td>\n",
              "      <td>20</td>\n",
              "      <td>54150</td>\n",
              "      <td>20201201</td>\n",
              "      <td>400060</td>\n",
              "      <td>20000</td>\n",
              "      <td>1</td>\n",
              "      <td>0</td>\n",
              "      <td>0</td>\n",
              "      <td>2</td>\n",
              "      <td>30</td>\n",
              "      <td>0</td>\n",
              "      <td>0</td>\n",
              "    </tr>\n",
              "    <tr>\n",
              "      <th>59</th>\n",
              "      <td>1200</td>\n",
              "      <td>2</td>\n",
              "      <td>30</td>\n",
              "      <td>20</td>\n",
              "      <td>54150</td>\n",
              "      <td>20201128</td>\n",
              "      <td>400060</td>\n",
              "      <td>9000</td>\n",
              "      <td>14</td>\n",
              "      <td>0</td>\n",
              "      <td>0</td>\n",
              "      <td>1</td>\n",
              "      <td>10</td>\n",
              "      <td>0</td>\n",
              "      <td>20</td>\n",
              "    </tr>\n",
              "    <tr>\n",
              "      <th>60</th>\n",
              "      <td>1200</td>\n",
              "      <td>2</td>\n",
              "      <td>30</td>\n",
              "      <td>20</td>\n",
              "      <td>54150</td>\n",
              "      <td>20201129</td>\n",
              "      <td>400060</td>\n",
              "      <td>58000</td>\n",
              "      <td>4</td>\n",
              "      <td>0</td>\n",
              "      <td>0</td>\n",
              "      <td>2</td>\n",
              "      <td>30</td>\n",
              "      <td>0</td>\n",
              "      <td>0</td>\n",
              "    </tr>\n",
              "    <tr>\n",
              "      <th>61</th>\n",
              "      <td>1200</td>\n",
              "      <td>2</td>\n",
              "      <td>30</td>\n",
              "      <td>20</td>\n",
              "      <td>54150</td>\n",
              "      <td>20201201</td>\n",
              "      <td>400020</td>\n",
              "      <td>40000</td>\n",
              "      <td>8</td>\n",
              "      <td>0</td>\n",
              "      <td>0</td>\n",
              "      <td>2</td>\n",
              "      <td>30</td>\n",
              "      <td>1</td>\n",
              "      <td>0</td>\n",
              "    </tr>\n",
              "    <tr>\n",
              "      <th>62</th>\n",
              "      <td>1200</td>\n",
              "      <td>2</td>\n",
              "      <td>30</td>\n",
              "      <td>20</td>\n",
              "      <td>54150</td>\n",
              "      <td>20201201</td>\n",
              "      <td>400020</td>\n",
              "      <td>30000</td>\n",
              "      <td>7</td>\n",
              "      <td>0</td>\n",
              "      <td>0</td>\n",
              "      <td>2</td>\n",
              "      <td>30</td>\n",
              "      <td>1</td>\n",
              "      <td>0</td>\n",
              "    </tr>\n",
              "    <tr>\n",
              "      <th>63</th>\n",
              "      <td>1200</td>\n",
              "      <td>2</td>\n",
              "      <td>30</td>\n",
              "      <td>20</td>\n",
              "      <td>54150</td>\n",
              "      <td>20201201</td>\n",
              "      <td>320080</td>\n",
              "      <td>45000</td>\n",
              "      <td>11</td>\n",
              "      <td>0</td>\n",
              "      <td>0</td>\n",
              "      <td>2</td>\n",
              "      <td>30</td>\n",
              "      <td>0</td>\n",
              "      <td>0</td>\n",
              "    </tr>\n",
              "    <tr>\n",
              "      <th>64</th>\n",
              "      <td>1200</td>\n",
              "      <td>2</td>\n",
              "      <td>30</td>\n",
              "      <td>20</td>\n",
              "      <td>54150</td>\n",
              "      <td>20201204</td>\n",
              "      <td>320090</td>\n",
              "      <td>45000</td>\n",
              "      <td>1</td>\n",
              "      <td>0</td>\n",
              "      <td>0</td>\n",
              "      <td>1</td>\n",
              "      <td>25</td>\n",
              "      <td>0</td>\n",
              "      <td>5</td>\n",
              "    </tr>\n",
              "    <tr>\n",
              "      <th>65</th>\n",
              "      <td>1200</td>\n",
              "      <td>2</td>\n",
              "      <td>30</td>\n",
              "      <td>20</td>\n",
              "      <td>54150</td>\n",
              "      <td>20201203</td>\n",
              "      <td>320080</td>\n",
              "      <td>50000</td>\n",
              "      <td>2</td>\n",
              "      <td>0</td>\n",
              "      <td>0</td>\n",
              "      <td>2</td>\n",
              "      <td>20</td>\n",
              "      <td>0</td>\n",
              "      <td>10</td>\n",
              "    </tr>\n",
              "    <tr>\n",
              "      <th>66</th>\n",
              "      <td>1200</td>\n",
              "      <td>2</td>\n",
              "      <td>30</td>\n",
              "      <td>20</td>\n",
              "      <td>54150</td>\n",
              "      <td>20201201</td>\n",
              "      <td>400040</td>\n",
              "      <td>45000</td>\n",
              "      <td>7</td>\n",
              "      <td>0</td>\n",
              "      <td>0</td>\n",
              "      <td>2</td>\n",
              "      <td>30</td>\n",
              "      <td>0</td>\n",
              "      <td>0</td>\n",
              "    </tr>\n",
              "    <tr>\n",
              "      <th>67</th>\n",
              "      <td>1200</td>\n",
              "      <td>2</td>\n",
              "      <td>30</td>\n",
              "      <td>20</td>\n",
              "      <td>54150</td>\n",
              "      <td>20201201</td>\n",
              "      <td>400010</td>\n",
              "      <td>25000</td>\n",
              "      <td>13</td>\n",
              "      <td>0</td>\n",
              "      <td>0</td>\n",
              "      <td>2</td>\n",
              "      <td>30</td>\n",
              "      <td>0</td>\n",
              "      <td>0</td>\n",
              "    </tr>\n",
              "    <tr>\n",
              "      <th>68</th>\n",
              "      <td>1200</td>\n",
              "      <td>2</td>\n",
              "      <td>30</td>\n",
              "      <td>20</td>\n",
              "      <td>54150</td>\n",
              "      <td>20201201</td>\n",
              "      <td>400040</td>\n",
              "      <td>45000</td>\n",
              "      <td>8</td>\n",
              "      <td>0</td>\n",
              "      <td>0</td>\n",
              "      <td>2</td>\n",
              "      <td>30</td>\n",
              "      <td>0</td>\n",
              "      <td>0</td>\n",
              "    </tr>\n",
              "    <tr>\n",
              "      <th>69</th>\n",
              "      <td>1200</td>\n",
              "      <td>2</td>\n",
              "      <td>30</td>\n",
              "      <td>20</td>\n",
              "      <td>54150</td>\n",
              "      <td>20201202</td>\n",
              "      <td>400010</td>\n",
              "      <td>1550000</td>\n",
              "      <td>34</td>\n",
              "      <td>0</td>\n",
              "      <td>0</td>\n",
              "      <td>1</td>\n",
              "      <td>30</td>\n",
              "      <td>0</td>\n",
              "      <td>0</td>\n",
              "    </tr>\n",
              "    <tr>\n",
              "      <th>70</th>\n",
              "      <td>1200</td>\n",
              "      <td>2</td>\n",
              "      <td>30</td>\n",
              "      <td>20</td>\n",
              "      <td>54150</td>\n",
              "      <td>20201201</td>\n",
              "      <td>400040</td>\n",
              "      <td>20000</td>\n",
              "      <td>6</td>\n",
              "      <td>0</td>\n",
              "      <td>0</td>\n",
              "      <td>2</td>\n",
              "      <td>30</td>\n",
              "      <td>0</td>\n",
              "      <td>0</td>\n",
              "    </tr>\n",
              "    <tr>\n",
              "      <th>111</th>\n",
              "      <td>1985</td>\n",
              "      <td>1</td>\n",
              "      <td>35</td>\n",
              "      <td>11</td>\n",
              "      <td>32688</td>\n",
              "      <td>20201201</td>\n",
              "      <td>500113</td>\n",
              "      <td>8000</td>\n",
              "      <td>4</td>\n",
              "      <td>0</td>\n",
              "      <td>0</td>\n",
              "      <td>1</td>\n",
              "      <td>30</td>\n",
              "      <td>0</td>\n",
              "      <td>5</td>\n",
              "    </tr>\n",
              "    <tr>\n",
              "      <th>112</th>\n",
              "      <td>1985</td>\n",
              "      <td>1</td>\n",
              "      <td>35</td>\n",
              "      <td>11</td>\n",
              "      <td>32688</td>\n",
              "      <td>20201127</td>\n",
              "      <td>500110</td>\n",
              "      <td>20000</td>\n",
              "      <td>7</td>\n",
              "      <td>0</td>\n",
              "      <td>0</td>\n",
              "      <td>1</td>\n",
              "      <td>30</td>\n",
              "      <td>0</td>\n",
              "      <td>5</td>\n",
              "    </tr>\n",
              "    <tr>\n",
              "      <th>113</th>\n",
              "      <td>1985</td>\n",
              "      <td>1</td>\n",
              "      <td>35</td>\n",
              "      <td>11</td>\n",
              "      <td>32688</td>\n",
              "      <td>20201127</td>\n",
              "      <td>500110</td>\n",
              "      <td>6500</td>\n",
              "      <td>0</td>\n",
              "      <td>0</td>\n",
              "      <td>0</td>\n",
              "      <td>1</td>\n",
              "      <td>35</td>\n",
              "      <td>0</td>\n",
              "      <td>0</td>\n",
              "    </tr>\n",
              "    <tr>\n",
              "      <th>114</th>\n",
              "      <td>1985</td>\n",
              "      <td>1</td>\n",
              "      <td>35</td>\n",
              "      <td>11</td>\n",
              "      <td>32688</td>\n",
              "      <td>20201130</td>\n",
              "      <td>500110</td>\n",
              "      <td>10000</td>\n",
              "      <td>2</td>\n",
              "      <td>0</td>\n",
              "      <td>0</td>\n",
              "      <td>1</td>\n",
              "      <td>30</td>\n",
              "      <td>0</td>\n",
              "      <td>5</td>\n",
              "    </tr>\n",
              "    <tr>\n",
              "      <th>115</th>\n",
              "      <td>1985</td>\n",
              "      <td>1</td>\n",
              "      <td>35</td>\n",
              "      <td>11</td>\n",
              "      <td>32688</td>\n",
              "      <td>20201127</td>\n",
              "      <td>500110</td>\n",
              "      <td>3000</td>\n",
              "      <td>1</td>\n",
              "      <td>0</td>\n",
              "      <td>0</td>\n",
              "      <td>1</td>\n",
              "      <td>35</td>\n",
              "      <td>0</td>\n",
              "      <td>0</td>\n",
              "    </tr>\n",
              "    <tr>\n",
              "      <th>116</th>\n",
              "      <td>1985</td>\n",
              "      <td>1</td>\n",
              "      <td>35</td>\n",
              "      <td>11</td>\n",
              "      <td>32688</td>\n",
              "      <td>20201127</td>\n",
              "      <td>500110</td>\n",
              "      <td>17000</td>\n",
              "      <td>1</td>\n",
              "      <td>0</td>\n",
              "      <td>0</td>\n",
              "      <td>1</td>\n",
              "      <td>20</td>\n",
              "      <td>0</td>\n",
              "      <td>15</td>\n",
              "    </tr>\n",
              "    <tr>\n",
              "      <th>117</th>\n",
              "      <td>1985</td>\n",
              "      <td>1</td>\n",
              "      <td>35</td>\n",
              "      <td>11</td>\n",
              "      <td>32688</td>\n",
              "      <td>20201127</td>\n",
              "      <td>410300</td>\n",
              "      <td>10000</td>\n",
              "      <td>5</td>\n",
              "      <td>0</td>\n",
              "      <td>0</td>\n",
              "      <td>1</td>\n",
              "      <td>30</td>\n",
              "      <td>0</td>\n",
              "      <td>5</td>\n",
              "    </tr>\n",
              "    <tr>\n",
              "      <th>118</th>\n",
              "      <td>1985</td>\n",
              "      <td>1</td>\n",
              "      <td>35</td>\n",
              "      <td>11</td>\n",
              "      <td>32688</td>\n",
              "      <td>20201130</td>\n",
              "      <td>500110</td>\n",
              "      <td>3000</td>\n",
              "      <td>0</td>\n",
              "      <td>0</td>\n",
              "      <td>0</td>\n",
              "      <td>1</td>\n",
              "      <td>30</td>\n",
              "      <td>0</td>\n",
              "      <td>5</td>\n",
              "    </tr>\n",
              "    <tr>\n",
              "      <th>119</th>\n",
              "      <td>1985</td>\n",
              "      <td>1</td>\n",
              "      <td>35</td>\n",
              "      <td>11</td>\n",
              "      <td>32688</td>\n",
              "      <td>20201127</td>\n",
              "      <td>500111</td>\n",
              "      <td>18000</td>\n",
              "      <td>4</td>\n",
              "      <td>0</td>\n",
              "      <td>0</td>\n",
              "      <td>1</td>\n",
              "      <td>35</td>\n",
              "      <td>0</td>\n",
              "      <td>0</td>\n",
              "    </tr>\n",
              "    <tr>\n",
              "      <th>120</th>\n",
              "      <td>1985</td>\n",
              "      <td>1</td>\n",
              "      <td>35</td>\n",
              "      <td>11</td>\n",
              "      <td>32688</td>\n",
              "      <td>20201130</td>\n",
              "      <td>500110</td>\n",
              "      <td>5000</td>\n",
              "      <td>0</td>\n",
              "      <td>0</td>\n",
              "      <td>0</td>\n",
              "      <td>1</td>\n",
              "      <td>30</td>\n",
              "      <td>0</td>\n",
              "      <td>5</td>\n",
              "    </tr>\n",
              "    <tr>\n",
              "      <th>121</th>\n",
              "      <td>1985</td>\n",
              "      <td>1</td>\n",
              "      <td>35</td>\n",
              "      <td>11</td>\n",
              "      <td>32688</td>\n",
              "      <td>20201127</td>\n",
              "      <td>500110</td>\n",
              "      <td>3500</td>\n",
              "      <td>2</td>\n",
              "      <td>0</td>\n",
              "      <td>0</td>\n",
              "      <td>1</td>\n",
              "      <td>35</td>\n",
              "      <td>0</td>\n",
              "      <td>0</td>\n",
              "    </tr>\n",
              "    <tr>\n",
              "      <th>122</th>\n",
              "      <td>1985</td>\n",
              "      <td>1</td>\n",
              "      <td>35</td>\n",
              "      <td>11</td>\n",
              "      <td>32688</td>\n",
              "      <td>20201130</td>\n",
              "      <td>500110</td>\n",
              "      <td>5000</td>\n",
              "      <td>2</td>\n",
              "      <td>0</td>\n",
              "      <td>0</td>\n",
              "      <td>1</td>\n",
              "      <td>30</td>\n",
              "      <td>0</td>\n",
              "      <td>5</td>\n",
              "    </tr>\n",
              "    <tr>\n",
              "      <th>123</th>\n",
              "      <td>1985</td>\n",
              "      <td>1</td>\n",
              "      <td>35</td>\n",
              "      <td>11</td>\n",
              "      <td>32688</td>\n",
              "      <td>20201127</td>\n",
              "      <td>500110</td>\n",
              "      <td>6000</td>\n",
              "      <td>5</td>\n",
              "      <td>0</td>\n",
              "      <td>0</td>\n",
              "      <td>1</td>\n",
              "      <td>25</td>\n",
              "      <td>0</td>\n",
              "      <td>10</td>\n",
              "    </tr>\n",
              "    <tr>\n",
              "      <th>124</th>\n",
              "      <td>1985</td>\n",
              "      <td>1</td>\n",
              "      <td>35</td>\n",
              "      <td>11</td>\n",
              "      <td>32688</td>\n",
              "      <td>20201130</td>\n",
              "      <td>500110</td>\n",
              "      <td>4000</td>\n",
              "      <td>1</td>\n",
              "      <td>0</td>\n",
              "      <td>0</td>\n",
              "      <td>1</td>\n",
              "      <td>35</td>\n",
              "      <td>0</td>\n",
              "      <td>0</td>\n",
              "    </tr>\n",
              "    <tr>\n",
              "      <th>125</th>\n",
              "      <td>1985</td>\n",
              "      <td>1</td>\n",
              "      <td>35</td>\n",
              "      <td>11</td>\n",
              "      <td>32688</td>\n",
              "      <td>20201203</td>\n",
              "      <td>500113</td>\n",
              "      <td>26000</td>\n",
              "      <td>8</td>\n",
              "      <td>0</td>\n",
              "      <td>0</td>\n",
              "      <td>1</td>\n",
              "      <td>30</td>\n",
              "      <td>0</td>\n",
              "      <td>5</td>\n",
              "    </tr>\n",
              "    <tr>\n",
              "      <th>126</th>\n",
              "      <td>1985</td>\n",
              "      <td>1</td>\n",
              "      <td>35</td>\n",
              "      <td>11</td>\n",
              "      <td>32688</td>\n",
              "      <td>20201127</td>\n",
              "      <td>500110</td>\n",
              "      <td>5000</td>\n",
              "      <td>1</td>\n",
              "      <td>0</td>\n",
              "      <td>0</td>\n",
              "      <td>1</td>\n",
              "      <td>30</td>\n",
              "      <td>0</td>\n",
              "      <td>5</td>\n",
              "    </tr>\n",
              "    <tr>\n",
              "      <th>127</th>\n",
              "      <td>1985</td>\n",
              "      <td>1</td>\n",
              "      <td>35</td>\n",
              "      <td>11</td>\n",
              "      <td>32688</td>\n",
              "      <td>20201203</td>\n",
              "      <td>500111</td>\n",
              "      <td>17000</td>\n",
              "      <td>1</td>\n",
              "      <td>0</td>\n",
              "      <td>0</td>\n",
              "      <td>1</td>\n",
              "      <td>30</td>\n",
              "      <td>1</td>\n",
              "      <td>5</td>\n",
              "    </tr>\n",
              "    <tr>\n",
              "      <th>128</th>\n",
              "      <td>1985</td>\n",
              "      <td>1</td>\n",
              "      <td>35</td>\n",
              "      <td>11</td>\n",
              "      <td>32688</td>\n",
              "      <td>20201130</td>\n",
              "      <td>500110</td>\n",
              "      <td>3000</td>\n",
              "      <td>1</td>\n",
              "      <td>0</td>\n",
              "      <td>0</td>\n",
              "      <td>1</td>\n",
              "      <td>30</td>\n",
              "      <td>0</td>\n",
              "      <td>5</td>\n",
              "    </tr>\n",
              "    <tr>\n",
              "      <th>129</th>\n",
              "      <td>1985</td>\n",
              "      <td>1</td>\n",
              "      <td>35</td>\n",
              "      <td>11</td>\n",
              "      <td>32688</td>\n",
              "      <td>20201127</td>\n",
              "      <td>500110</td>\n",
              "      <td>12000</td>\n",
              "      <td>0</td>\n",
              "      <td>0</td>\n",
              "      <td>0</td>\n",
              "      <td>1</td>\n",
              "      <td>35</td>\n",
              "      <td>0</td>\n",
              "      <td>0</td>\n",
              "    </tr>\n",
              "    <tr>\n",
              "      <th>130</th>\n",
              "      <td>1985</td>\n",
              "      <td>1</td>\n",
              "      <td>35</td>\n",
              "      <td>11</td>\n",
              "      <td>32688</td>\n",
              "      <td>20201130</td>\n",
              "      <td>500110</td>\n",
              "      <td>3000</td>\n",
              "      <td>1</td>\n",
              "      <td>0</td>\n",
              "      <td>0</td>\n",
              "      <td>1</td>\n",
              "      <td>30</td>\n",
              "      <td>0</td>\n",
              "      <td>5</td>\n",
              "    </tr>\n",
              "    <tr>\n",
              "      <th>131</th>\n",
              "      <td>1985</td>\n",
              "      <td>1</td>\n",
              "      <td>35</td>\n",
              "      <td>11</td>\n",
              "      <td>32688</td>\n",
              "      <td>20201130</td>\n",
              "      <td>500113</td>\n",
              "      <td>6000</td>\n",
              "      <td>6</td>\n",
              "      <td>0</td>\n",
              "      <td>0</td>\n",
              "      <td>1</td>\n",
              "      <td>30</td>\n",
              "      <td>0</td>\n",
              "      <td>5</td>\n",
              "    </tr>\n",
              "  </tbody>\n",
              "</table>\n",
              "</div>"
            ],
            "text/plain": [
              "      구id  구성별  구나이  3개월간구매횟수   평균금액       찜시각    카테고리     상품가격  찜수  택포  교환  \\\n",
              "13    719    2   20        18  35012  20201127  700100    15000   1   0   0   \n",
              "14    719    2   20        18  35012  20201204  400020    25000   5   0   0   \n",
              "15    719    2   20        18  35012  20201204  700100    55000   3   0   0   \n",
              "16    719    2   20        18  35012  20201204  700100    45000  13   1   0   \n",
              "17    719    2   20        18  35012  20201128  320080    33000   1   0   0   \n",
              "18    719    2   20        18  35012  20201204  700100    90000   1   0   0   \n",
              "19    719    2   20        18  35012  20201204  700100   100000   2   0   0   \n",
              "20    719    2   20        18  35012  20201204  600700   350000   3   0   0   \n",
              "21    719    2   20        18  35012  20201204  600700   550000  10   0   0   \n",
              "22    719    2   20        18  35012  20201128  320150    25000  13   1   0   \n",
              "23    719    2   20        18  35012  20201128  320080    27900   0   1   0   \n",
              "24    719    2   20        18  35012  20201204  700100    50000   7   1   0   \n",
              "25    719    2   20        18  35012  20201202  320150    10000  14   0   0   \n",
              "26    719    2   20        18  35012  20201203  700100    35000   2   1   0   \n",
              "27    719    2   20        18  35012  20201204  700100    30000   4   0   0   \n",
              "28    719    2   20        18  35012  20201205  400020    50000   2   2   2   \n",
              "29    719    2   20        18  35012  20201205  400020    30000   2   0   0   \n",
              "49   1200    2   30        20  54150  20201202  320080    40000   7   1   0   \n",
              "50   1200    2   30        20  54150  20201129  320080  1300000   2   0   0   \n",
              "51   1200    2   30        20  54150  20201202  320080    70000   5   0   0   \n",
              "52   1200    2   30        20  54150  20201201  400040    25000  19   0   0   \n",
              "53   1200    2   30        20  54150  20201202  320080    33000   4   1   0   \n",
              "54   1200    2   30        20  54150  20201201  400010    65000  12   0   0   \n",
              "55   1200    2   30        20  54150  20201202  600700     6000   8   0   0   \n",
              "56   1200    2   30        20  54150  20201204  320080    70000   1   0   0   \n",
              "57   1200    2   30        20  54150  20201128  400060    18000   4   1   0   \n",
              "58   1200    2   30        20  54150  20201201  400060    20000   1   0   0   \n",
              "59   1200    2   30        20  54150  20201128  400060     9000  14   0   0   \n",
              "60   1200    2   30        20  54150  20201129  400060    58000   4   0   0   \n",
              "61   1200    2   30        20  54150  20201201  400020    40000   8   0   0   \n",
              "62   1200    2   30        20  54150  20201201  400020    30000   7   0   0   \n",
              "63   1200    2   30        20  54150  20201201  320080    45000  11   0   0   \n",
              "64   1200    2   30        20  54150  20201204  320090    45000   1   0   0   \n",
              "65   1200    2   30        20  54150  20201203  320080    50000   2   0   0   \n",
              "66   1200    2   30        20  54150  20201201  400040    45000   7   0   0   \n",
              "67   1200    2   30        20  54150  20201201  400010    25000  13   0   0   \n",
              "68   1200    2   30        20  54150  20201201  400040    45000   8   0   0   \n",
              "69   1200    2   30        20  54150  20201202  400010  1550000  34   0   0   \n",
              "70   1200    2   30        20  54150  20201201  400040    20000   6   0   0   \n",
              "111  1985    1   35        11  32688  20201201  500113     8000   4   0   0   \n",
              "112  1985    1   35        11  32688  20201127  500110    20000   7   0   0   \n",
              "113  1985    1   35        11  32688  20201127  500110     6500   0   0   0   \n",
              "114  1985    1   35        11  32688  20201130  500110    10000   2   0   0   \n",
              "115  1985    1   35        11  32688  20201127  500110     3000   1   0   0   \n",
              "116  1985    1   35        11  32688  20201127  500110    17000   1   0   0   \n",
              "117  1985    1   35        11  32688  20201127  410300    10000   5   0   0   \n",
              "118  1985    1   35        11  32688  20201130  500110     3000   0   0   0   \n",
              "119  1985    1   35        11  32688  20201127  500111    18000   4   0   0   \n",
              "120  1985    1   35        11  32688  20201130  500110     5000   0   0   0   \n",
              "121  1985    1   35        11  32688  20201127  500110     3500   2   0   0   \n",
              "122  1985    1   35        11  32688  20201130  500110     5000   2   0   0   \n",
              "123  1985    1   35        11  32688  20201127  500110     6000   5   0   0   \n",
              "124  1985    1   35        11  32688  20201130  500110     4000   1   0   0   \n",
              "125  1985    1   35        11  32688  20201203  500113    26000   8   0   0   \n",
              "126  1985    1   35        11  32688  20201127  500110     5000   1   0   0   \n",
              "127  1985    1   35        11  32688  20201203  500111    17000   1   0   0   \n",
              "128  1985    1   35        11  32688  20201130  500110     3000   1   0   0   \n",
              "129  1985    1   35        11  32688  20201127  500110    12000   0   0   0   \n",
              "130  1985    1   35        11  32688  20201130  500110     3000   1   0   0   \n",
              "131  1985    1   35        11  32688  20201130  500113     6000   6   0   0   \n",
              "\n",
              "     판성별  판나이  구매여부  나이차이  \n",
              "13     2   20     0     0  \n",
              "14     2   25     0     5  \n",
              "15     2   10     0    10  \n",
              "16     2   10     0    10  \n",
              "17     1   20     1     0  \n",
              "18     2   10     0    10  \n",
              "19     2   35     0    15  \n",
              "20     2   20     0     0  \n",
              "21     2   20     0     0  \n",
              "22     2   10     0    10  \n",
              "23     2   10     0    10  \n",
              "24     2   10     0    10  \n",
              "25     1   25     0     5  \n",
              "26     2   25     1     5  \n",
              "27     2   20     0     0  \n",
              "28     2   10     0    10  \n",
              "29     2   20     0     0  \n",
              "49     1   20     0    10  \n",
              "50     2   25     0     5  \n",
              "51     2   25     0     5  \n",
              "52     2   30     0     0  \n",
              "53     1   20     1    10  \n",
              "54     2   30     0     0  \n",
              "55     1   25     0     5  \n",
              "56     1   25     0     5  \n",
              "57     2   25     0     5  \n",
              "58     2   30     0     0  \n",
              "59     1   10     0    20  \n",
              "60     2   30     0     0  \n",
              "61     2   30     1     0  \n",
              "62     2   30     1     0  \n",
              "63     2   30     0     0  \n",
              "64     1   25     0     5  \n",
              "65     2   20     0    10  \n",
              "66     2   30     0     0  \n",
              "67     2   30     0     0  \n",
              "68     2   30     0     0  \n",
              "69     1   30     0     0  \n",
              "70     2   30     0     0  \n",
              "111    1   30     0     5  \n",
              "112    1   30     0     5  \n",
              "113    1   35     0     0  \n",
              "114    1   30     0     5  \n",
              "115    1   35     0     0  \n",
              "116    1   20     0    15  \n",
              "117    1   30     0     5  \n",
              "118    1   30     0     5  \n",
              "119    1   35     0     0  \n",
              "120    1   30     0     5  \n",
              "121    1   35     0     0  \n",
              "122    1   30     0     5  \n",
              "123    1   25     0    10  \n",
              "124    1   35     0     0  \n",
              "125    1   30     0     5  \n",
              "126    1   30     0     5  \n",
              "127    1   30     1     5  \n",
              "128    1   30     0     5  \n",
              "129    1   35     0     0  \n",
              "130    1   30     0     5  \n",
              "131    1   30     0     5  "
            ]
          },
          "metadata": {
            "tags": []
          },
          "execution_count": 36
        }
      ]
    },
    {
      "cell_type": "code",
      "metadata": {
        "id": "egp8Z9kXyx8O",
        "outputId": "b11e2e5c-df90-4d77-b468-8361eeaae50e"
      },
      "source": [
        "jab.shape"
      ],
      "execution_count": null,
      "outputs": [
        {
          "output_type": "execute_result",
          "data": {
            "text/plain": [
              "(144323, 15)"
            ]
          },
          "metadata": {
            "tags": []
          },
          "execution_count": 37
        }
      ]
    },
    {
      "cell_type": "code",
      "metadata": {
        "id": "qUg5iFqWyx8O",
        "outputId": "568a3c4c-1507-4560-fe1e-4764c8127ab2"
      },
      "source": [
        "# jab['구매여부'].hist()\n",
        "print(jab['구매여부'].value_counts())"
      ],
      "execution_count": null,
      "outputs": [
        {
          "output_type": "stream",
          "text": [
            "0    131830\n",
            "1     12493\n",
            "Name: 구매여부, dtype: int64\n"
          ],
          "name": "stdout"
        }
      ]
    },
    {
      "cell_type": "code",
      "metadata": {
        "id": "yp5MYWQQyx8P",
        "outputId": "29acc36e-830e-46ce-8858-3369ef9f73ee"
      },
      "source": [
        "plt.hist(jab['3개월간구매횟수'],range=(0,450),bins=10)"
      ],
      "execution_count": null,
      "outputs": [
        {
          "output_type": "execute_result",
          "data": {
            "text/plain": [
              "(array([1.2264e+05, 1.4148e+04, 5.3620e+03, 1.2080e+03, 1.4300e+02,\n",
              "        1.1800e+02, 3.5000e+01, 6.3100e+02, 0.0000e+00, 2.0000e+01]),\n",
              " array([  0.,  45.,  90., 135., 180., 225., 270., 315., 360., 405., 450.]),\n",
              " <a list of 10 Patch objects>)"
            ]
          },
          "metadata": {
            "tags": []
          },
          "execution_count": 39
        },
        {
          "output_type": "display_data",
          "data": {
            "image/png": "[encoded data removed]",
            "text/plain": [
              "<Figure size 432x288 with 1 Axes>"
            ]
          },
          "metadata": {
            "tags": [],
            "needs_background": "light"
          }
        }
      ]
    },
    {
      "cell_type": "code",
      "metadata": {
        "id": "Z2k00wLZyx8P",
        "outputId": "0a487c1c-c830-4a40-9eb4-5bc2b32113f8"
      },
      "source": [
        "plt.hist(jab['평균금액'],range=(0,300000),bins=20)"
      ],
      "execution_count": null,
      "outputs": [
        {
          "output_type": "execute_result",
          "data": {
            "text/plain": [
              "(array([18712., 37474., 23534., 17103.,  9964.,  7243.,  5889.,  4407.,\n",
              "         3099.,  1828.,  1648.,   934.,  1811.,   829.,  1743.,   943.,\n",
              "          571.,   655.,   380.,   534.]),\n",
              " array([     0.,  15000.,  30000.,  45000.,  60000.,  75000.,  90000.,\n",
              "        105000., 120000., 135000., 150000., 165000., 180000., 195000.,\n",
              "        210000., 225000., 240000., 255000., 270000., 285000., 300000.]),\n",
              " <a list of 20 Patch objects>)"
            ]
          },
          "metadata": {
            "tags": []
          },
          "execution_count": 40
        },
        {
          "output_type": "display_data",
          "data": {
            "image/png": "[encoded data removed]",
            "text/plain": [
              "<Figure size 432x288 with 1 Axes>"
            ]
          },
          "metadata": {
            "tags": [],
            "needs_background": "light"
          }
        }
      ]
    },
    {
      "cell_type": "code",
      "metadata": {
        "id": "MV-gCffDyx8Q",
        "outputId": "1fb8f76f-5f88-4ae1-f921-087eac125439"
      },
      "source": [
        "plt.hist(jab['상품가격'],range=(0,300000),bins=20)"
      ],
      "execution_count": null,
      "outputs": [
        {
          "output_type": "execute_result",
          "data": {
            "text/plain": [
              "(array([37096., 29935., 19330., 11191.,  7527.,  5356.,  5067.,  2064.,\n",
              "         3248.,  2069.,  2967.,  1362.,  1649.,  1636.,   966.,   729.,\n",
              "         1345.,   501.,   804.,  1231.]),\n",
              " array([     0.,  15000.,  30000.,  45000.,  60000.,  75000.,  90000.,\n",
              "        105000., 120000., 135000., 150000., 165000., 180000., 195000.,\n",
              "        210000., 225000., 240000., 255000., 270000., 285000., 300000.]),\n",
              " <a list of 20 Patch objects>)"
            ]
          },
          "metadata": {
            "tags": []
          },
          "execution_count": 41
        },
        {
          "output_type": "display_data",
          "data": {
            "image/png": "[encoded data removed]",
            "text/plain": [
              "<Figure size 432x288 with 1 Axes>"
            ]
          },
          "metadata": {
            "tags": [],
            "needs_background": "light"
          }
        }
      ]
    },
    {
      "cell_type": "code",
      "metadata": {
        "id": "dWaltj9dyx8Q",
        "outputId": "11d99e85-7028-4ab9-c0f3-c3c60f7a31d5"
      },
      "source": [
        "plt.hist(jab['찜수'],range=(0,250),bins=20)"
      ],
      "execution_count": null,
      "outputs": [
        {
          "output_type": "execute_result",
          "data": {
            "text/plain": [
              "(array([1.08555e+05, 1.89750e+04, 6.56400e+03, 2.71000e+03, 1.65300e+03,\n",
              "        9.04000e+02, 7.02000e+02, 5.34000e+02, 4.49000e+02, 3.03000e+02,\n",
              "        2.46000e+02, 2.02000e+02, 2.04000e+02, 1.35000e+02, 1.39000e+02,\n",
              "        1.23000e+02, 1.00000e+02, 9.20000e+01, 9.20000e+01, 9.00000e+01]),\n",
              " array([  0. ,  12.5,  25. ,  37.5,  50. ,  62.5,  75. ,  87.5, 100. ,\n",
              "        112.5, 125. , 137.5, 150. , 162.5, 175. , 187.5, 200. , 212.5,\n",
              "        225. , 237.5, 250. ]),\n",
              " <a list of 20 Patch objects>)"
            ]
          },
          "metadata": {
            "tags": []
          },
          "execution_count": 42
        },
        {
          "output_type": "display_data",
          "data": {
            "image/png": "[encoded data removed]",
            "text/plain": [
              "<Figure size 432x288 with 1 Axes>"
            ]
          },
          "metadata": {
            "tags": [],
            "needs_background": "light"
          }
        }
      ]
    },
    {
      "cell_type": "code",
      "metadata": {
        "id": "hvByxT-ayx8Q",
        "outputId": "8ff8d0c5-910d-4b0c-b7fa-fa8f88ca1aa0"
      },
      "source": [
        "plt.hist(jab['찜수'],range=(0,200),bins=20)"
      ],
      "execution_count": null,
      "outputs": [
        {
          "output_type": "execute_result",
          "data": {
            "text/plain": [
              "(array([9.7693e+04, 2.4711e+04, 8.4010e+03, 3.8960e+03, 2.1030e+03,\n",
              "        1.3240e+03, 9.1700e+02, 6.2300e+02, 4.7800e+02, 4.5100e+02,\n",
              "        3.6400e+02, 2.7600e+02, 2.0100e+02, 2.0400e+02, 1.5500e+02,\n",
              "        1.5600e+02, 1.2700e+02, 1.1200e+02, 9.5000e+01, 1.2100e+02]),\n",
              " array([  0.,  10.,  20.,  30.,  40.,  50.,  60.,  70.,  80.,  90., 100.,\n",
              "        110., 120., 130., 140., 150., 160., 170., 180., 190., 200.]),\n",
              " <a list of 20 Patch objects>)"
            ]
          },
          "metadata": {
            "tags": []
          },
          "execution_count": 43
        },
        {
          "output_type": "display_data",
          "data": {
            "image/png": "[encoded data removed]",
            "text/plain": [
              "<Figure size 432x288 with 1 Axes>"
            ]
          },
          "metadata": {
            "tags": [],
            "needs_background": "light"
          }
        }
      ]
    },
    {
      "cell_type": "code",
      "metadata": {
        "id": "vQYvsijyyx8R",
        "outputId": "679bc725-37c7-4c15-cb9d-3118a54e15b1"
      },
      "source": [
        "plt.hist(jab['나이차이'],range=(0,60),bins=12)"
      ],
      "execution_count": null,
      "outputs": [
        {
          "output_type": "execute_result",
          "data": {
            "text/plain": [
              "(array([3.6629e+04, 3.1814e+04, 3.6981e+04, 1.7023e+04, 1.4140e+04,\n",
              "        1.8150e+03, 4.7590e+03, 1.7000e+02, 7.0000e+02, 7.9000e+01,\n",
              "        1.8500e+02, 2.8000e+01]),\n",
              " array([ 0.,  5., 10., 15., 20., 25., 30., 35., 40., 45., 50., 55., 60.]),\n",
              " <a list of 12 Patch objects>)"
            ]
          },
          "metadata": {
            "tags": []
          },
          "execution_count": 44
        },
        {
          "output_type": "display_data",
          "data": {
            "image/png": "[encoded data removed]",
            "text/plain": [
              "<Figure size 432x288 with 1 Axes>"
            ]
          },
          "metadata": {
            "tags": [],
            "needs_background": "light"
          }
        }
      ]
    },
    {
      "cell_type": "code",
      "metadata": {
        "id": "kjV7TX0lyx8R",
        "outputId": "6ef68bf5-170b-4252-ba50-7ca08158f076"
      },
      "source": [
        "sns.countplot(jab['찜시각'])\n",
        "plt.show()"
      ],
      "execution_count": null,
      "outputs": [
        {
          "output_type": "stream",
          "text": [
            "C:\\Users\\Jiwon Pyo\\Anaconda3\\lib\\site-packages\\matplotlib\\backends\\backend_agg.py:214: RuntimeWarning: Glyph 52252 missing from current font.\n",
            "  font.set_text(s, 0.0, flags=flags)\n",
            "C:\\Users\\Jiwon Pyo\\Anaconda3\\lib\\site-packages\\matplotlib\\backends\\backend_agg.py:214: RuntimeWarning: Glyph 49884 missing from current font.\n",
            "  font.set_text(s, 0.0, flags=flags)\n",
            "C:\\Users\\Jiwon Pyo\\Anaconda3\\lib\\site-packages\\matplotlib\\backends\\backend_agg.py:214: RuntimeWarning: Glyph 44033 missing from current font.\n",
            "  font.set_text(s, 0.0, flags=flags)\n",
            "C:\\Users\\Jiwon Pyo\\Anaconda3\\lib\\site-packages\\matplotlib\\backends\\backend_agg.py:183: RuntimeWarning: Glyph 52252 missing from current font.\n",
            "  font.set_text(s, 0, flags=flags)\n",
            "C:\\Users\\Jiwon Pyo\\Anaconda3\\lib\\site-packages\\matplotlib\\backends\\backend_agg.py:183: RuntimeWarning: Glyph 49884 missing from current font.\n",
            "  font.set_text(s, 0, flags=flags)\n",
            "C:\\Users\\Jiwon Pyo\\Anaconda3\\lib\\site-packages\\matplotlib\\backends\\backend_agg.py:183: RuntimeWarning: Glyph 44033 missing from current font.\n",
            "  font.set_text(s, 0, flags=flags)\n"
          ],
          "name": "stderr"
        },
        {
          "output_type": "display_data",
          "data": {
            "image/png": "[encoded data removed]",
            "text/plain": [
              "<Figure size 432x288 with 1 Axes>"
            ]
          },
          "metadata": {
            "tags": [],
            "needs_background": "light"
          }
        }
      ]
    },
    {
      "cell_type": "code",
      "metadata": {
        "id": "qkUbJq_Cyx8S",
        "outputId": "59fba8ef-8e2f-478a-fd0b-f4f87ffd30dd"
      },
      "source": [
        "# sns.countplot(jab['카테고리'])\n",
        "# plt.show()\n",
        "print(jab['카테고리'].value_counts())"
      ],
      "execution_count": null,
      "outputs": [
        {
          "output_type": "stream",
          "text": [
            "400010    8703\n",
            "320080    7709\n",
            "400040    6692\n",
            "310120    5924\n",
            "310090    5467\n",
            "          ... \n",
            "210218       1\n",
            "220070       1\n",
            "240050       1\n",
            "220100       1\n",
            "210211       1\n",
            "Name: 카테고리, Length: 148, dtype: int64\n"
          ],
          "name": "stdout"
        }
      ]
    },
    {
      "cell_type": "code",
      "metadata": {
        "scrolled": true,
        "id": "Qn_LOo-byx8S"
      },
      "source": [
        "#범주형 변수 One Hot Encoding\n",
        "jab['구id'] = jab['구id'].astype(str)\n",
        "jab['구성별'] = jab['구성별'].astype(str)\n",
        "jab['카테고리'] = jab['카테고리'].astype(str)\n",
        "jab['찜시각'] = jab['찜시각'].astype(str)\n",
        "jab['택포'] = jab['택포'].astype(str)\n",
        "jab['교환'] = jab['교환'].astype(str)\n",
        "jab['판성별'] = jab['판성별'].astype(str)\n",
        "\n",
        "\n",
        "jab_new=pd.get_dummies(jab, columns=['구id','구성별','찜시각','카테고리','택포','교환','판성별'])"
      ],
      "execution_count": null,
      "outputs": []
    },
    {
      "cell_type": "code",
      "metadata": {
        "id": "0DkqUMoyyx8S"
      },
      "source": [
        "#3. preparing dataset \n",
        "features = jab[['구id', '구성별','3개월간구매횟수','평균금액','찜시각','카테고리','상품가격','찜수','택포','교환','판성별','나이차이']]\n",
        "purchase =jab['구매여부']\n",
        "\n",
        "from sklearn.model_selection import train_test_split\n",
        "train_features, test_features, train_labels, test_labels = train_test_split(features, purchase)"
      ],
      "execution_count": null,
      "outputs": []
    },
    {
      "cell_type": "code",
      "metadata": {
        "id": "k9ivmVckyx8T",
        "outputId": "58c021fc-5f63-4c45-8ba1-6ebde4e4c79e"
      },
      "source": [
        "from imblearn.over_sampling import SMOTE\n",
        "smote = SMOTE(random_state=0)\n",
        "X_train_over,y_train_over = smote.fit_sample(train_features,train_labels)\n",
        "print('SMOTE 적용 전 학습용 피처/레이블 데이터 세트: ', train_features.shape, train_labels.shape)\n",
        "print('SMOTE 적용 후 학습용 피처/레이블 데이터 세트: ', X_train_over.shape, y_train_over.shape)\n",
        "print('SMOTE 적용 후 레이블 값 분포: \\n', pd.Series(y_train_over).value_counts())"
      ],
      "execution_count": null,
      "outputs": [
        {
          "output_type": "stream",
          "text": [
            "SMOTE 적용 전 학습용 피처/레이블 데이터 세트:  (108242, 12) (108242,)\n",
            "SMOTE 적용 후 학습용 피처/레이블 데이터 세트:  (197666, 12) (197666,)\n",
            "SMOTE 적용 후 레이블 값 분포: \n",
            " 1    98833\n",
            "0    98833\n",
            "Name: 구매여부, dtype: int64\n"
          ],
          "name": "stdout"
        }
      ]
    },
    {
      "cell_type": "code",
      "metadata": {
        "id": "p5PweSY7yx8T"
      },
      "source": [
        "from collections import Counter\n",
        "from matplotlib import pyplot\n",
        "def count_and_plot(y): \n",
        "    counter = Counter(y)\n",
        "    for k,v in counter.items():\n",
        "        print('Class=%d, n=%d (%.3f%%)' % (k, v, v / len(y) * 100))\n",
        "    pyplot.bar(counter.keys(), counter.values())\n",
        "    pyplot.show()"
      ],
      "execution_count": null,
      "outputs": []
    },
    {
      "cell_type": "code",
      "metadata": {
        "id": "ULZTTrScyx8T",
        "outputId": "d8a97206-0163-46b4-c767-33298f74afdf"
      },
      "source": [
        "from imblearn.over_sampling import SMOTE\n",
        "X_train_over,y_train_over = SMOTE(random_state=0).fit_resample(train_features,train_labels)\n",
        "count_and_plot(y_train_over)"
      ],
      "execution_count": null,
      "outputs": [
        {
          "output_type": "stream",
          "text": [
            "Class=0, n=98878 (50.000%)\n",
            "Class=1, n=98878 (50.000%)\n"
          ],
          "name": "stdout"
        },
        {
          "output_type": "display_data",
          "data": {
            "image/png": "[encoded data removed]",
            "text/plain": [
              "<Figure size 432x288 with 1 Axes>"
            ]
          },
          "metadata": {
            "tags": [],
            "needs_background": "light"
          }
        }
      ]
    },
    {
      "cell_type": "code",
      "metadata": {
        "id": "fTH-3YSzyx8U",
        "outputId": "e2a53702-f718-41fa-e250-e67801383de9"
      },
      "source": [
        "from imblearn.over_sampling import ADASYN\n",
        "X_train_over,y_train_over = ADASYN(random_state=0).fit_sample(train_features,train_labels)\n",
        "print('ADASYN 적용 전 학습용 피처/레이블 데이터 세트: ', train_features.shape, train_labels.shape)\n",
        "print('ADASYN 적용 후 학습용 피처/레이블 데이터 세트: ', X_train_over.shape, y_train_over.shape)\n",
        "print('ADASYN 적용 후 레이블 값 분포: \\n', pd.Series(y_train_over).value_counts())"
      ],
      "execution_count": null,
      "outputs": [
        {
          "output_type": "stream",
          "text": [
            "ADASYN 적용 전 학습용 피처/레이블 데이터 세트:  (108515, 13) (108515,)\n",
            "ADASYN 적용 후 학습용 피처/레이블 데이터 세트:  (197335, 13) (197335,)\n",
            "ADASYN 적용 후 레이블 값 분포: \n",
            " 0    99024\n",
            "1    98311\n",
            "Name: 구매여부, dtype: int64\n"
          ],
          "name": "stdout"
        }
      ]
    },
    {
      "cell_type": "code",
      "metadata": {
        "id": "UN1_ibjmyx8U"
      },
      "source": [
        "from sklearn.preprocessing import StandardScaler\n",
        "scaler = StandardScaler()\n",
        "\n",
        "\n",
        "X_train_over = scaler.fit_transform(X_train_over)\n",
        "test_features = scaler.transform(test_features)"
      ],
      "execution_count": null,
      "outputs": []
    },
    {
      "cell_type": "code",
      "metadata": {
        "id": "8jz0W7BSyx8U"
      },
      "source": [
        "from sklearn.preprocessing import MinMaxScaler\n",
        "scaler = MinMaxScaler(feature_range=(0, 1))\n",
        "\n",
        "\n",
        "X_train_over = scaler.fit_transform(X_train_over)\n",
        "test_features = scaler.transform(test_features)"
      ],
      "execution_count": null,
      "outputs": []
    },
    {
      "cell_type": "code",
      "metadata": {
        "id": "VvBIPCotyx8V"
      },
      "source": [
        "from sklearn.preprocessing import RobustScaler\n",
        "scaler = RobustScaler()\n",
        "\n",
        "\n",
        "X_train_over = scaler.fit_transform(X_train_over)\n",
        "test_features = scaler.transform(test_features)\n",
        "\n"
      ],
      "execution_count": null,
      "outputs": []
    },
    {
      "cell_type": "code",
      "metadata": {
        "id": "C5Q0vk-byx8V",
        "outputId": "8f799d23-358c-4484-fe06-d53dac8a6a75"
      },
      "source": [
        "#generating a model, evaluation\n",
        "#Logistic\n",
        "from sklearn.linear_model import LogisticRegression\n",
        "\n",
        "\n",
        "model= LogisticRegression(max_iter=700)\n",
        "model.fit(X_train_over,y_train_over)"
      ],
      "execution_count": null,
      "outputs": [
        {
          "output_type": "execute_result",
          "data": {
            "text/plain": [
              "LogisticRegression(max_iter=700)"
            ]
          },
          "metadata": {
            "tags": []
          },
          "execution_count": 67
        }
      ]
    },
    {
      "cell_type": "code",
      "metadata": {
        "id": "k0oY4P9Eyx8V"
      },
      "source": [
        "#Decision Tree\n",
        "\n",
        "from sklearn import tree\n",
        "\n",
        "model = tree.DecisionTreeClassifier(criterion = \"entropy\") # 종속변수가 현재 범주형\n",
        "model = model.fit(X_train_over, y_train_over)   "
      ],
      "execution_count": null,
      "outputs": []
    },
    {
      "cell_type": "code",
      "metadata": {
        "id": "1OGJN70byx8W"
      },
      "source": [
        "#xgboost\n",
        "from xgboost import XGBClassifier\n",
        "\n",
        "model = XGBClassifier(n_estimators = 400, learning_rate = 0.1, max_depth = 2)\n",
        "model.fit(X_train_over, y_train_over)\n",
        "w_preds = model.predict(test_features)"
      ],
      "execution_count": null,
      "outputs": []
    },
    {
      "cell_type": "code",
      "metadata": {
        "id": "n21VfvaLyx8W",
        "outputId": "a36ddf6b-9cf7-4fbd-c8cf-e20c661ac877"
      },
      "source": [
        "from sklearn.metrics import confusion_matrix, accuracy_score, precision_score, recall_score\n",
        "from sklearn.metrics import confusion_matrix, f1_score, roc_auc_score\n",
        "y_pred=model.predict(test_features)\n",
        "def get_jab_eval(test_labels,y_pred):\n",
        "    confusion = confusion_matrix(test_labels, y_pred)\n",
        "    accuracy = accuracy_score(test_labels, y_pred)\n",
        "    precision = precision_score(test_labels, y_pred)\n",
        "    recall = recall_score(test_labels, y_pred)\n",
        "    F1 = f1_score(test_labels, y_pred)\n",
        "    AUC = roc_auc_score(test_labels, y_pred)\n",
        "    print('오차행렬:\\n', confusion)\n",
        "    print('\\n정확도: {:.4f}'.format(accuracy))\n",
        "    print('정밀도: {:.4f}'.format(precision))\n",
        "    print('재현율: {:.4f}'.format(recall))\n",
        "    print('F1: {:.4f}'.format(F1))\n",
        "    print('AUC: {:.4f}'.format(AUC))\n",
        "\n",
        "get_jab_eval(test_labels, w_preds)"
      ],
      "execution_count": null,
      "outputs": [
        {
          "output_type": "stream",
          "text": [
            "오차행렬:\n",
            " [[32913    39]\n",
            " [ 3108    21]]\n",
            "\n",
            "정확도: 0.9128\n",
            "정밀도: 0.3500\n",
            "재현율: 0.0067\n",
            "F1: 0.0132\n",
            "AUC: 0.5028\n"
          ],
          "name": "stdout"
        }
      ]
    },
    {
      "cell_type": "code",
      "metadata": {
        "id": "NJnXVnuyyx8W",
        "outputId": "bedfec60-6f23-40f3-9b8b-6391e56eddd8"
      },
      "source": [
        "from xgboost import plot_importance\n",
        "import matplotlib.pyplot as plt\n",
        "%matplotlib inline\n",
        "\n",
        "fig, ax = plt.subplots(figsize=(10, 12))\n",
        "plot_importance(model, ax=ax)\n",
        "\n",
        "# f0:'구id' f1:'구성별' f2:'3개월간구매횟수' f3: '평균금액' f4:'찜시각'\n",
        "# f5:'카테고리'f6:'상품가격'f7:'찜수' f8:'택포'f9:'교환'\n",
        "# f10:'판성별' f11: '나이차이'"
      ],
      "execution_count": null,
      "outputs": [
        {
          "output_type": "execute_result",
          "data": {
            "text/plain": [
              "<matplotlib.axes._subplots.AxesSubplot at 0x189678cb400>"
            ]
          },
          "metadata": {
            "tags": []
          },
          "execution_count": 24
        },
        {
          "output_type": "display_data",
          "data": {
            "image/png": "[encoded data removed]",
            "text/plain": [
              "<Figure size 720x864 with 1 Axes>"
            ]
          },
          "metadata": {
            "tags": [],
            "needs_background": "light"
          }
        }
      ]
    },
    {
      "cell_type": "code",
      "metadata": {
        "id": "mr0_6M5xyx8X",
        "outputId": "d0c3c9ff-469b-4b39-cfb0-cc77bdd04b91"
      },
      "source": [
        "from sklearn.ensemble import RandomForestClassifier\n",
        "model = RandomForestClassifier(n_estimators=400,     # Number of trees\n",
        "                              max_features=2,     # Num features considered\n",
        "                              oob_score=True)\n",
        "model"
      ],
      "execution_count": null,
      "outputs": [
        {
          "output_type": "execute_result",
          "data": {
            "text/plain": [
              "RandomForestClassifier(max_features=2, n_estimators=400, oob_score=True)"
            ]
          },
          "metadata": {
            "tags": []
          },
          "execution_count": 50
        }
      ]
    },
    {
      "cell_type": "code",
      "metadata": {
        "id": "QvUPSYCjyx8X",
        "outputId": "9acb94ab-b422-4155-add6-d9c4383c9702"
      },
      "source": [
        "model.fit(X_train_over, y_train_over)\n",
        "#Test data를 입력해 target data를 예측 (매번 달라짐)\n",
        "prediction = model.predict(test_features)\n",
        "#예측 결과 precision과 실제 test data의 target을 비교\n",
        "print(prediction==test_labels)"
      ],
      "execution_count": null,
      "outputs": [
        {
          "output_type": "stream",
          "text": [
            "266975    True\n",
            "121118    True\n",
            "129685    True\n",
            "488251    True\n",
            "105411    True\n",
            "          ... \n",
            "788517    True\n",
            "494706    True\n",
            "543527    True\n",
            "783052    True\n",
            "594033    True\n",
            "Name: 구매여부, Length: 36081, dtype: bool\n"
          ],
          "name": "stdout"
        }
      ]
    },
    {
      "cell_type": "code",
      "metadata": {
        "id": "so1XffzXyx8Y",
        "outputId": "d179a8ea-062e-4631-b1be-fcaf376df3b6"
      },
      "source": [
        "print(model.score(X_train_over, y_train_over))"
      ],
      "execution_count": null,
      "outputs": [
        {
          "output_type": "stream",
          "text": [
            "0.9995345684133842\n"
          ],
          "name": "stdout"
        }
      ]
    },
    {
      "cell_type": "code",
      "metadata": {
        "id": "LfLgwLxByx8Y",
        "outputId": "c8b8576c-c9af-465f-deea-0a1fbeb5f6d8"
      },
      "source": [
        "print(model.score(test_features, test_labels))"
      ],
      "execution_count": null,
      "outputs": [
        {
          "output_type": "stream",
          "text": [
            "0.9220919597572129\n"
          ],
          "name": "stdout"
        }
      ]
    },
    {
      "cell_type": "code",
      "metadata": {
        "scrolled": true,
        "id": "PDpGJRrhyx8Z",
        "outputId": "a7061dac-1c84-449b-a11d-b785f070f599"
      },
      "source": [
        "from sklearn.metrics import classification_report\n",
        "\n",
        "print(classification_report(test_labels,model.predict(test_features)))"
      ],
      "execution_count": null,
      "outputs": [
        {
          "output_type": "stream",
          "text": [
            "              precision    recall  f1-score   support\n",
            "\n",
            "           0       0.93      0.99      0.96     32997\n",
            "           1       0.65      0.19      0.29      3084\n",
            "\n",
            "    accuracy                           0.92     36081\n",
            "   macro avg       0.79      0.59      0.63     36081\n",
            "weighted avg       0.91      0.92      0.90     36081\n",
            "\n"
          ],
          "name": "stdout"
        }
      ]
    },
    {
      "cell_type": "code",
      "metadata": {
        "id": "z27oIdRqyx8a"
      },
      "source": [
        "# 12490247\n",
        "# 8152165\n",
        "# 74398604\n",
        "# 14769\n",
        "# 11973942\n",
        "# 7903468\n",
        "# 1912936\n",
        "# 74449629\n",
        "# 4061981\n",
        "# 7725692\n",
        "# 7354268\n",
        "# 8510660\n",
        "# f0:'구id' f1:'구성별' f2:'3개월간구매횟수' f3: '평균금액' f4:'찜시각'\n",
        "# f5:'카테고리'f6:'상품가격'f7:'찜수' f8:'택포'f9:'교환'\n",
        "# f10:'판매자후기수' f11:'판성별' f12: 'agediff'\n",
        "\n",
        "import numpy as np\n",
        "a=np.array([12490247,0,0,0,20201127,600100,260000,17,0,0,1,20])\n",
        "b=np.array([8152165,2,0,0,20201129,600100,260000,17,0,0,1,0])\n",
        "c=np.array([74398604,0,0,0,20201203,600100,260000,17,0,0,1,20])\n",
        "d=np.array([14769,2,12,59190,20201128,600100,260000,17,0,0,1,0])\n",
        "e=np.array([11973942,1,0,0,20201204,600100,260000,17,0,0,1,0])\n",
        "f=np.array([7903468,2,7,178601,20201129,600100,260000,17,0,0,1,10])\n",
        "g=np.array([1912936,2,0,0,20201129,600100,260000,17,0,0,1,10])\n",
        "h=np.array([74449629,0,0,0,20201130,600100,260000,17,0,0,1,20])\n",
        "i=np.array([4061981,2,0,0,20201129,600100,260000,17,0,0,1,5])\n",
        "j=np.array([7725692,2,7,49721,20201201,600100,260000,17,0,0,1,5])\n",
        "k=np.array([7354268,2,0,0,20201130,600100,260000,17,0,0,1,0])\n",
        "l=np.array([8510660,2,0,0,20201127,600100,260000,17,0,0,1,0])\n",
        "\n",
        "\n",
        "\n",
        "sample = np.array([a,b,c,d,e,f,g,h,i,j,k,l])"
      ],
      "execution_count": null,
      "outputs": []
    },
    {
      "cell_type": "code",
      "metadata": {
        "id": "tZ7DMg73yx8b"
      },
      "source": [
        "sample = scaler.transform(sample)"
      ],
      "execution_count": null,
      "outputs": []
    },
    {
      "cell_type": "code",
      "metadata": {
        "id": "igvlw1Deyx8c",
        "outputId": "d62ed697-4553-4d44-fbc8-19d5cecc6c72"
      },
      "source": [
        "print(model.predict_proba(sample))"
      ],
      "execution_count": null,
      "outputs": [
        {
          "output_type": "stream",
          "text": [
            "[[0.9555091  0.04449087]\n",
            " [0.91025895 0.08974105]\n",
            " [0.9581735  0.04182651]\n",
            " [0.87492526 0.12507476]\n",
            " [0.9451831  0.05481689]\n",
            " [0.8196083  0.18039174]\n",
            " [0.9226051  0.07739493]\n",
            " [0.95140564 0.04859434]\n",
            " [0.92409515 0.07590488]\n",
            " [0.9029761  0.09702391]\n",
            " [0.9111831  0.0888169 ]\n",
            " [0.9131369  0.08686312]]\n"
          ],
          "name": "stdout"
        }
      ]
    },
    {
      "cell_type": "code",
      "metadata": {
        "id": "-644BVo0yx8d",
        "outputId": "f93c781b-e0e7-4576-cc2a-85a6bcd37673"
      },
      "source": [
        "print(model.predict(sample))"
      ],
      "execution_count": null,
      "outputs": [
        {
          "output_type": "stream",
          "text": [
            "[0 0 0 0 0 0 0 0 0 0 0 0]\n"
          ],
          "name": "stdout"
        }
      ]
    },
    {
      "cell_type": "code",
      "metadata": {
        "id": "xbrO9SlNyx8e"
      },
      "source": [
        "sample = scaler.transform(sample)"
      ],
      "execution_count": null,
      "outputs": []
    }
  ]
}